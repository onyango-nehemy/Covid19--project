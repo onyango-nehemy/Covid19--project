{
 "cells": [
  {
   "cell_type": "markdown",
   "id": "686c4b35",
   "metadata": {},
   "source": [
    "# 🦠 COVID-19 Global Data Tracker\n",
    "\n",
    "This project analyzes global COVID-19 data from [Our World in Data](https://ourworldindata.org/coronavirus), focusing on confirmed cases, deaths, and vaccination trends over time across countries.\n",
    "\n",
    "---\n"
   ]
  },
  {
   "cell_type": "markdown",
   "id": "bd8f6555",
   "metadata": {},
   "source": [
    "## 📥 Step 1 & 2: Data Collection and Loading\n",
    "\n",
    "We load the dataset from OWID and explore the structure to understand its contents.\n"
   ]
  },
  {
   "cell_type": "code",
   "execution_count": null,
   "id": "f3ccde92",
   "metadata": {},
   "outputs": [],
   "source": [
    "import pandas as pd\n",
    "import matplotlib.pyplot as plt\n",
    "import seaborn as sns\n",
    "\n",
    "# Configure plot styles\n",
    "sns.set(style='whitegrid')\n",
    "plt.rcParams['figure.figsize'] = (12, 6)\n",
    "\n",
    "# Load the dataset\n",
    "data_path = \"data/owid-covid-data.csv\"\n",
    "df = pd.read_csv(data_path)\n",
    "\n",
    "# Preview the data\n",
    "df.head()\n"
   ]
  },
  {
   "cell_type": "code",
   "execution_count": null,
   "id": "6887d4da",
   "metadata": {},
   "outputs": [],
   "source": [
    "# Check shape and column names\n",
    "print(\"Shape:\", df.shape)\n",
    "df.columns\n"
   ]
  },
  {
   "cell_type": "code",
   "execution_count": null,
   "id": "e8a6c39c",
   "metadata": {},
   "outputs": [],
   "source": [
    "# Check for missing values\n",
    "df.isnull().sum().sort_values(ascending=False).head(20)\n"
   ]
  },
  {
   "cell_type": "markdown",
   "id": "753dca19",
   "metadata": {},
   "source": [
    "## 🧹 Step 3: Data Cleaning\n",
    "\n",
    "We filter relevant countries and handle missing values to prepare for analysis.\n"
   ]
  },
  {
   "cell_type": "code",
   "execution_count": null,
   "id": "dd34e5c8",
   "metadata": {},
   "outputs": [],
   "source": [
    "# Focus on a few countries\n",
    "countries = ['Kenya', 'United States', 'India', 'Brazil', 'South Africa']\n",
    "df = df[df['location'].isin(countries)]\n",
    "\n",
    "# Convert date column\n",
    "df['date'] = pd.to_datetime(df['date'])\n",
    "\n",
    "# Drop rows with missing critical values\n",
    "df = df.dropna(subset=['total_cases', 'total_deaths'])\n",
    "\n",
    "# Fill or interpolate missing numeric values\n",
    "df = df.fillna(method='ffill')\n"
   ]
  },
  {
   "cell_type": "markdown",
   "id": "7ad4d927",
   "metadata": {},
   "source": [
    "## 📊 Step 4: Exploratory Data Analysis (EDA)\n",
    "\n",
    "Let's explore COVID-19 cases and deaths over time.\n"
   ]
  },
  {
   "cell_type": "code",
   "execution_count": null,
   "id": "a30a52d0",
   "metadata": {},
   "outputs": [],
   "source": [
    "# Plot total cases over time\n",
    "for country in countries:\n",
    "    subset = df[df['location'] == country]\n",
    "    plt.plot(subset['date'], subset['total_cases'], label=country)\n",
    "\n",
    "plt.title('Total COVID-19 Cases Over Time')\n",
    "plt.xlabel('Date')\n",
    "plt.ylabel('Total Cases')\n",
    "plt.legend()\n",
    "plt.show()\n"
   ]
  },
  {
   "cell_type": "code",
   "execution_count": null,
   "id": "66803236",
   "metadata": {},
   "outputs": [],
   "source": [
    "# Plot total deaths over time\n",
    "for country in countries:\n",
    "    subset = df[df['location'] == country]\n",
    "    plt.plot(subset['date'], subset['total_deaths'], label=country)\n",
    "\n",
    "plt.title('Total COVID-19 Deaths Over Time')\n",
    "plt.xlabel('Date')\n",
    "plt.ylabel('Total Deaths')\n",
    "plt.legend()\n",
    "plt.show()\n"
   ]
  },
  {
   "cell_type": "code",
   "execution_count": null,
   "id": "f3fcb3e9",
   "metadata": {},
   "outputs": [],
   "source": [
    "# Daily new cases comparison\n",
    "for country in countries:\n",
    "    subset = df[df['location'] == country]\n",
    "    plt.plot(subset['date'], subset['new_cases'], label=country)\n",
    "\n",
    "plt.title('Daily New COVID-19 Cases')\n",
    "plt.xlabel('Date')\n",
    "plt.ylabel('New Cases')\n",
    "plt.legend()\n",
    "plt.show()\n"
   ]
  },
  {
   "cell_type": "code",
   "execution_count": null,
   "id": "a067d67b",
   "metadata": {},
   "outputs": [],
   "source": [
    "# Calculate death rate\n",
    "df['death_rate'] = df['total_deaths'] / df['total_cases']\n",
    "df[['location', 'date', 'death_rate']].groupby('location').last()\n"
   ]
  },
  {
   "cell_type": "markdown",
   "id": "26681f89",
   "metadata": {},
   "source": [
    "## 💉 Step 5: Visualizing Vaccination Progress\n",
    "\n",
    "We now explore vaccination trends by country.\n"
   ]
  },
  {
   "cell_type": "code",
   "execution_count": null,
   "id": "3577e447",
   "metadata": {},
   "outputs": [],
   "source": [
    "# Plot total vaccinations over time\n",
    "for country in countries:\n",
    "    subset = df[df['location'] == country]\n",
    "    plt.plot(subset['date'], subset['total_vaccinations'], label=country)\n",
    "\n",
    "plt.title('Cumulative COVID-19 Vaccinations')\n",
    "plt.xlabel('Date')\n",
    "plt.ylabel('Total Vaccinations')\n",
    "plt.legend()\n",
    "plt.show()\n"
   ]
  },
  {
   "cell_type": "markdown",
   "id": "a8394d04",
   "metadata": {},
   "source": [
    "## 🧠 Step 6: Key Insights\n",
    "\n",
    "Here are some key observations:\n",
    "\n",
    "1. The United States had the highest total number of confirmed cases.\n",
    "2. India and the US showed large spikes in daily new cases, especially during major waves.\n",
    "3. Vaccination rollouts were fastest in the US and Brazil among the selected countries.\n",
    "4. Death rates were highest in countries with slower early vaccination rates.\n",
    "5. South Africa's trends showed multiple distinct waves of infections.\n",
    "\n",
    "---\n"
   ]
  }
 ],
 "metadata": {},
 "nbformat": 4,
 "nbformat_minor": 5
}